{
  "nbformat": 4,
  "nbformat_minor": 0,
  "metadata": {
    "colab": {
      "name": "Replicando comparecimento part 1.ipynb",
      "provenance": [],
      "authorship_tag": "ABX9TyNU6No0Mox/Nc0dqBSg7Zp7",
      "include_colab_link": true
    },
    "kernelspec": {
      "name": "python3",
      "display_name": "Python 3"
    },
    "language_info": {
      "name": "python"
    }
  },
  "cells": [
    {
      "cell_type": "markdown",
      "metadata": {
        "id": "view-in-github",
        "colab_type": "text"
      },
      "source": [
        "<a href=\"https://colab.research.google.com/github/gregorioCPcG/Turnout/blob/main/Replicando_comparecimento_part_1.ipynb\" target=\"_parent\"><img src=\"https://colab.research.google.com/assets/colab-badge.svg\" alt=\"Open In Colab\"/></a>"
      ]
    },
    {
      "cell_type": "markdown",
      "metadata": {
        "id": "X_riZ1Diut49"
      },
      "source": [
        "# Ir treino 1\n"
      ]
    },
    {
      "cell_type": "code",
      "metadata": {
        "id": "59dC7whHtzBC"
      },
      "source": [
        "#Bibliotecas\n",
        "import pandas as pd\n",
        "import numpy as np\n",
        "import seaborn as sns\n",
        "from matplotlib import pyplot as plt"
      ],
      "execution_count": null,
      "outputs": []
    },
    {
      "cell_type": "code",
      "metadata": {
        "id": "DovywbTQurmK"
      },
      "source": [
        "#Carga e visualização das primeiras cinco primeiras observações do conjunto de dados\n",
        "url = \"https://raw.githubusercontent.com/hadley/data-baby-names/master/baby-names.csv\"\n",
        "df = pd.read_csv(url)"
      ],
      "execution_count": null,
      "outputs": []
    },
    {
      "cell_type": "markdown",
      "metadata": {
        "id": "I_YMifWXaIWP"
      },
      "source": [
        ""
      ]
    },
    {
      "cell_type": "code",
      "metadata": {
        "colab": {
          "base_uri": "https://localhost:8080/",
          "height": 206
        },
        "id": "AcbPHTlhMJLz",
        "outputId": "fab8cf06-579e-4fd2-9334-9f89fbc30b79"
      },
      "source": [
        "df.head()"
      ],
      "execution_count": null,
      "outputs": [
        {
          "output_type": "execute_result",
          "data": {
            "text/html": [
              "<div>\n",
              "<style scoped>\n",
              "    .dataframe tbody tr th:only-of-type {\n",
              "        vertical-align: middle;\n",
              "    }\n",
              "\n",
              "    .dataframe tbody tr th {\n",
              "        vertical-align: top;\n",
              "    }\n",
              "\n",
              "    .dataframe thead th {\n",
              "        text-align: right;\n",
              "    }\n",
              "</style>\n",
              "<table border=\"1\" class=\"dataframe\">\n",
              "  <thead>\n",
              "    <tr style=\"text-align: right;\">\n",
              "      <th></th>\n",
              "      <th>year</th>\n",
              "      <th>name</th>\n",
              "      <th>percent</th>\n",
              "      <th>sex</th>\n",
              "    </tr>\n",
              "  </thead>\n",
              "  <tbody>\n",
              "    <tr>\n",
              "      <th>0</th>\n",
              "      <td>1880</td>\n",
              "      <td>John</td>\n",
              "      <td>0.081541</td>\n",
              "      <td>boy</td>\n",
              "    </tr>\n",
              "    <tr>\n",
              "      <th>1</th>\n",
              "      <td>1880</td>\n",
              "      <td>William</td>\n",
              "      <td>0.080511</td>\n",
              "      <td>boy</td>\n",
              "    </tr>\n",
              "    <tr>\n",
              "      <th>2</th>\n",
              "      <td>1880</td>\n",
              "      <td>James</td>\n",
              "      <td>0.050057</td>\n",
              "      <td>boy</td>\n",
              "    </tr>\n",
              "    <tr>\n",
              "      <th>3</th>\n",
              "      <td>1880</td>\n",
              "      <td>Charles</td>\n",
              "      <td>0.045167</td>\n",
              "      <td>boy</td>\n",
              "    </tr>\n",
              "    <tr>\n",
              "      <th>4</th>\n",
              "      <td>1880</td>\n",
              "      <td>George</td>\n",
              "      <td>0.043292</td>\n",
              "      <td>boy</td>\n",
              "    </tr>\n",
              "  </tbody>\n",
              "</table>\n",
              "</div>"
            ],
            "text/plain": [
              "   year     name   percent  sex\n",
              "0  1880     John  0.081541  boy\n",
              "1  1880  William  0.080511  boy\n",
              "2  1880    James  0.050057  boy\n",
              "3  1880  Charles  0.045167  boy\n",
              "4  1880   George  0.043292  boy"
            ]
          },
          "metadata": {},
          "execution_count": 102
        }
      ]
    },
    {
      "cell_type": "code",
      "metadata": {
        "colab": {
          "base_uri": "https://localhost:8080/"
        },
        "id": "I_t_7WcAYUHh",
        "outputId": "0eb564e4-f515-4871-c427-2575c20db326"
      },
      "source": [
        "df.info()"
      ],
      "execution_count": null,
      "outputs": [
        {
          "output_type": "stream",
          "name": "stdout",
          "text": [
            "<class 'pandas.core.frame.DataFrame'>\n",
            "RangeIndex: 258000 entries, 0 to 257999\n",
            "Data columns (total 4 columns):\n",
            " #   Column   Non-Null Count   Dtype  \n",
            "---  ------   --------------   -----  \n",
            " 0   year     258000 non-null  int64  \n",
            " 1   name     258000 non-null  object \n",
            " 2   percent  258000 non-null  float64\n",
            " 3   sex      258000 non-null  object \n",
            "dtypes: float64(1), int64(1), object(2)\n",
            "memory usage: 7.9+ MB\n"
          ]
        }
      ]
    },
    {
      "cell_type": "code",
      "metadata": {
        "colab": {
          "base_uri": "https://localhost:8080/",
          "height": 206
        },
        "id": "8ifYkVIMZlBz",
        "outputId": "d04b191b-51ea-4add-95cb-a144d6c279bf"
      },
      "source": [
        "df.sort_values(by=[\"percent\"],ascending=False)\n",
        "df.tail()"
      ],
      "execution_count": null,
      "outputs": [
        {
          "output_type": "execute_result",
          "data": {
            "text/html": [
              "<div>\n",
              "<style scoped>\n",
              "    .dataframe tbody tr th:only-of-type {\n",
              "        vertical-align: middle;\n",
              "    }\n",
              "\n",
              "    .dataframe tbody tr th {\n",
              "        vertical-align: top;\n",
              "    }\n",
              "\n",
              "    .dataframe thead th {\n",
              "        text-align: right;\n",
              "    }\n",
              "</style>\n",
              "<table border=\"1\" class=\"dataframe\">\n",
              "  <thead>\n",
              "    <tr style=\"text-align: right;\">\n",
              "      <th></th>\n",
              "      <th>year</th>\n",
              "      <th>name</th>\n",
              "      <th>percent</th>\n",
              "      <th>sex</th>\n",
              "    </tr>\n",
              "  </thead>\n",
              "  <tbody>\n",
              "    <tr>\n",
              "      <th>72995</th>\n",
              "      <td>1952</td>\n",
              "      <td>Michale</td>\n",
              "      <td>0.000026</td>\n",
              "      <td>boy</td>\n",
              "    </tr>\n",
              "    <tr>\n",
              "      <th>72996</th>\n",
              "      <td>1952</td>\n",
              "      <td>Quincy</td>\n",
              "      <td>0.000026</td>\n",
              "      <td>boy</td>\n",
              "    </tr>\n",
              "    <tr>\n",
              "      <th>72997</th>\n",
              "      <td>1952</td>\n",
              "      <td>Wilfredo</td>\n",
              "      <td>0.000026</td>\n",
              "      <td>boy</td>\n",
              "    </tr>\n",
              "    <tr>\n",
              "      <th>72998</th>\n",
              "      <td>1952</td>\n",
              "      <td>Wyman</td>\n",
              "      <td>0.000026</td>\n",
              "      <td>boy</td>\n",
              "    </tr>\n",
              "    <tr>\n",
              "      <th>71996</th>\n",
              "      <td>1951</td>\n",
              "      <td>Cole</td>\n",
              "      <td>0.000026</td>\n",
              "      <td>boy</td>\n",
              "    </tr>\n",
              "  </tbody>\n",
              "</table>\n",
              "</div>"
            ],
            "text/plain": [
              "       year      name   percent  sex\n",
              "72995  1952   Michale  0.000026  boy\n",
              "72996  1952    Quincy  0.000026  boy\n",
              "72997  1952  Wilfredo  0.000026  boy\n",
              "72998  1952     Wyman  0.000026  boy\n",
              "71996  1951      Cole  0.000026  boy"
            ]
          },
          "metadata": {},
          "execution_count": 108
        }
      ]
    },
    {
      "cell_type": "markdown",
      "metadata": {
        "id": "RSJfYjkZaZmS"
      },
      "source": [
        "#Novo\n",
        "\n",
        "```\n",
        "# Isto está formatado como código\n",
        "```\n",
        "\n"
      ]
    },
    {
      "cell_type": "code",
      "metadata": {
        "id": "YBAgOJqjamr6"
      },
      "source": [
        "\n",
        "tornout = pd.read_csv(\"fote.csv\")"
      ],
      "execution_count": null,
      "outputs": []
    },
    {
      "cell_type": "code",
      "metadata": {
        "colab": {
          "base_uri": "https://localhost:8080/",
          "height": 206
        },
        "id": "usdfjb5zaubU",
        "outputId": "94714f3f-f260-43c6-e073-bbbaa3504581"
      },
      "source": [
        "tornout.head()"
      ],
      "execution_count": null,
      "outputs": [
        {
          "output_type": "execute_result",
          "data": {
            "text/html": [
              "<div>\n",
              "<style scoped>\n",
              "    .dataframe tbody tr th:only-of-type {\n",
              "        vertical-align: middle;\n",
              "    }\n",
              "\n",
              "    .dataframe tbody tr th {\n",
              "        vertical-align: top;\n",
              "    }\n",
              "\n",
              "    .dataframe thead th {\n",
              "        text-align: right;\n",
              "    }\n",
              "</style>\n",
              "<table border=\"1\" class=\"dataframe\">\n",
              "  <thead>\n",
              "    <tr style=\"text-align: right;\">\n",
              "      <th></th>\n",
              "      <th>Country</th>\n",
              "      <th>Election type</th>\n",
              "      <th>Year</th>\n",
              "      <th>Tornout</th>\n",
              "      <th>Compulsory</th>\n",
              "      <th>Region</th>\n",
              "    </tr>\n",
              "  </thead>\n",
              "  <tbody>\n",
              "    <tr>\n",
              "      <th>0</th>\n",
              "      <td>Albania</td>\n",
              "      <td>Parliamentary</td>\n",
              "      <td>2021</td>\n",
              "      <td>46.32</td>\n",
              "      <td>No</td>\n",
              "      <td>Leste Europeu</td>\n",
              "    </tr>\n",
              "    <tr>\n",
              "      <th>1</th>\n",
              "      <td>Algeria</td>\n",
              "      <td>Parliamentary</td>\n",
              "      <td>2021</td>\n",
              "      <td>23.03</td>\n",
              "      <td>No</td>\n",
              "      <td>Africa</td>\n",
              "    </tr>\n",
              "    <tr>\n",
              "      <th>2</th>\n",
              "      <td>Andorra</td>\n",
              "      <td>Parliamentary</td>\n",
              "      <td>2019</td>\n",
              "      <td>68.33</td>\n",
              "      <td>No</td>\n",
              "      <td>Europa Ocidental</td>\n",
              "    </tr>\n",
              "    <tr>\n",
              "      <th>3</th>\n",
              "      <td>Angola</td>\n",
              "      <td>Parliamentary</td>\n",
              "      <td>2017</td>\n",
              "      <td>76.13</td>\n",
              "      <td>No</td>\n",
              "      <td>Africa</td>\n",
              "    </tr>\n",
              "    <tr>\n",
              "      <th>4</th>\n",
              "      <td>Anguilla</td>\n",
              "      <td>Parliamentary</td>\n",
              "      <td>2020</td>\n",
              "      <td>61.02</td>\n",
              "      <td>No</td>\n",
              "      <td>Americas</td>\n",
              "    </tr>\n",
              "  </tbody>\n",
              "</table>\n",
              "</div>"
            ],
            "text/plain": [
              "    Country  Election type  Year  Tornout Compulsory            Region\n",
              "0   Albania  Parliamentary  2021    46.32         No     Leste Europeu\n",
              "1   Algeria  Parliamentary  2021    23.03         No            Africa\n",
              "2   Andorra  Parliamentary  2019    68.33         No  Europa Ocidental\n",
              "3    Angola  Parliamentary  2017    76.13         No            Africa\n",
              "4  Anguilla  Parliamentary  2020    61.02         No          Americas"
            ]
          },
          "metadata": {},
          "execution_count": 117
        }
      ]
    },
    {
      "cell_type": "code",
      "metadata": {
        "colab": {
          "base_uri": "https://localhost:8080/"
        },
        "id": "2o9KoxZKa9BV",
        "outputId": "c521341b-e028-4238-b5f9-df84a6f11698"
      },
      "source": [
        "tornout.info()"
      ],
      "execution_count": null,
      "outputs": [
        {
          "output_type": "stream",
          "name": "stdout",
          "text": [
            "<class 'pandas.core.frame.DataFrame'>\n",
            "RangeIndex: 118 entries, 0 to 117\n",
            "Data columns (total 6 columns):\n",
            " #   Column         Non-Null Count  Dtype  \n",
            "---  ------         --------------  -----  \n",
            " 0   Country        118 non-null    object \n",
            " 1   Election type  118 non-null    object \n",
            " 2   Year           118 non-null    int64  \n",
            " 3   Tornout        118 non-null    float64\n",
            " 4   Compulsory     118 non-null    object \n",
            " 5   Region         118 non-null    object \n",
            "dtypes: float64(1), int64(1), object(4)\n",
            "memory usage: 5.7+ KB\n"
          ]
        }
      ]
    },
    {
      "cell_type": "code",
      "metadata": {
        "id": "aIq9ZJw9bM3D"
      },
      "source": [
        ""
      ],
      "execution_count": null,
      "outputs": []
    },
    {
      "cell_type": "code",
      "metadata": {
        "colab": {
          "base_uri": "https://localhost:8080/",
          "height": 424
        },
        "id": "nT8L1euCbNGB",
        "outputId": "f17f4c81-abe9-4260-f728-2958481a6788"
      },
      "source": [
        "tornout.sort_values(by=[\"Tornout\"],ascending=True)"
      ],
      "execution_count": null,
      "outputs": [
        {
          "output_type": "execute_result",
          "data": {
            "text/html": [
              "<div>\n",
              "<style scoped>\n",
              "    .dataframe tbody tr th:only-of-type {\n",
              "        vertical-align: middle;\n",
              "    }\n",
              "\n",
              "    .dataframe tbody tr th {\n",
              "        vertical-align: top;\n",
              "    }\n",
              "\n",
              "    .dataframe thead th {\n",
              "        text-align: right;\n",
              "    }\n",
              "</style>\n",
              "<table border=\"1\" class=\"dataframe\">\n",
              "  <thead>\n",
              "    <tr style=\"text-align: right;\">\n",
              "      <th></th>\n",
              "      <th>Country</th>\n",
              "      <th>Election type</th>\n",
              "      <th>Year</th>\n",
              "      <th>Tornout</th>\n",
              "      <th>Compulsory</th>\n",
              "      <th>Region</th>\n",
              "    </tr>\n",
              "  </thead>\n",
              "  <tbody>\n",
              "    <tr>\n",
              "      <th>1</th>\n",
              "      <td>Algeria</td>\n",
              "      <td>Parliamentary</td>\n",
              "      <td>2021</td>\n",
              "      <td>23.03</td>\n",
              "      <td>No</td>\n",
              "      <td>Africa</td>\n",
              "    </tr>\n",
              "    <tr>\n",
              "      <th>14</th>\n",
              "      <td>Benin</td>\n",
              "      <td>Parliamentary</td>\n",
              "      <td>2019</td>\n",
              "      <td>27.16</td>\n",
              "      <td>No</td>\n",
              "      <td>Africa</td>\n",
              "    </tr>\n",
              "    <tr>\n",
              "      <th>117</th>\n",
              "      <td>Venezuela</td>\n",
              "      <td>Parliamentary</td>\n",
              "      <td>2020</td>\n",
              "      <td>30.09</td>\n",
              "      <td>No</td>\n",
              "      <td>Americas</td>\n",
              "    </tr>\n",
              "    <tr>\n",
              "      <th>93</th>\n",
              "      <td>Romania</td>\n",
              "      <td>Parliamentary</td>\n",
              "      <td>2020</td>\n",
              "      <td>31.84</td>\n",
              "      <td>No</td>\n",
              "      <td>Leste Europeu</td>\n",
              "    </tr>\n",
              "    <tr>\n",
              "      <th>84</th>\n",
              "      <td>Nigeria</td>\n",
              "      <td>Parliamentary</td>\n",
              "      <td>2019</td>\n",
              "      <td>32.14</td>\n",
              "      <td>No</td>\n",
              "      <td>Africa</td>\n",
              "    </tr>\n",
              "    <tr>\n",
              "      <th>...</th>\n",
              "      <td>...</td>\n",
              "      <td>...</td>\n",
              "      <td>...</td>\n",
              "      <td>...</td>\n",
              "      <td>...</td>\n",
              "      <td>...</td>\n",
              "    </tr>\n",
              "    <tr>\n",
              "      <th>115</th>\n",
              "      <td>Uruguay</td>\n",
              "      <td>Parliamentary</td>\n",
              "      <td>2019</td>\n",
              "      <td>90.13</td>\n",
              "      <td>Yes</td>\n",
              "      <td>Americas</td>\n",
              "    </tr>\n",
              "    <tr>\n",
              "      <th>5</th>\n",
              "      <td>Antigua and Barbuda</td>\n",
              "      <td>Parliamentary</td>\n",
              "      <td>2014</td>\n",
              "      <td>90.27</td>\n",
              "      <td>No</td>\n",
              "      <td>Americas</td>\n",
              "    </tr>\n",
              "    <tr>\n",
              "      <th>9</th>\n",
              "      <td>Australia</td>\n",
              "      <td>Parliamentary</td>\n",
              "      <td>2019</td>\n",
              "      <td>91.89</td>\n",
              "      <td>Yes</td>\n",
              "      <td>Oceania</td>\n",
              "    </tr>\n",
              "    <tr>\n",
              "      <th>74</th>\n",
              "      <td>Malta</td>\n",
              "      <td>Parliamentary</td>\n",
              "      <td>2017</td>\n",
              "      <td>92.06</td>\n",
              "      <td>No</td>\n",
              "      <td>Europa Ocidental</td>\n",
              "    </tr>\n",
              "    <tr>\n",
              "      <th>79</th>\n",
              "      <td>Nauru</td>\n",
              "      <td>Parliamentary</td>\n",
              "      <td>2019</td>\n",
              "      <td>95.13</td>\n",
              "      <td>Yes</td>\n",
              "      <td>Oceania</td>\n",
              "    </tr>\n",
              "  </tbody>\n",
              "</table>\n",
              "<p>118 rows × 6 columns</p>\n",
              "</div>"
            ],
            "text/plain": [
              "                 Country  Election type  ...  Compulsory            Region\n",
              "1                Algeria  Parliamentary  ...          No            Africa\n",
              "14                 Benin  Parliamentary  ...          No            Africa\n",
              "117            Venezuela  Parliamentary  ...          No          Americas\n",
              "93               Romania  Parliamentary  ...          No     Leste Europeu\n",
              "84               Nigeria  Parliamentary  ...          No            Africa\n",
              "..                   ...            ...  ...         ...               ...\n",
              "115              Uruguay  Parliamentary  ...         Yes          Americas\n",
              "5    Antigua and Barbuda  Parliamentary  ...          No          Americas\n",
              "9              Australia  Parliamentary  ...         Yes           Oceania\n",
              "74                 Malta  Parliamentary  ...          No  Europa Ocidental\n",
              "79                 Nauru  Parliamentary  ...         Yes           Oceania\n",
              "\n",
              "[118 rows x 6 columns]"
            ]
          },
          "metadata": {},
          "execution_count": 123
        }
      ]
    },
    {
      "cell_type": "code",
      "metadata": {
        "colab": {
          "base_uri": "https://localhost:8080/"
        },
        "id": "7wYlF9Mnc5SI",
        "outputId": "d6c7be9d-f5a6-423f-8b1a-3a84a001ce47"
      },
      "source": [
        "#Vamos checar qual a média de votação por continente \n",
        "media_tx = tornout[\"Tornout\"].groupby(by=tornout.Region).mean()\n",
        "media_tx.sort_values(ascending=False,inplace=True)\n",
        "media_tx"
      ],
      "execution_count": null,
      "outputs": [
        {
          "output_type": "execute_result",
          "data": {
            "text/plain": [
              "Region\n",
              "Oceania             77.558889\n",
              "Europa Ocidental    72.267500\n",
              "Asia                67.876364\n",
              "Americas            63.069032\n",
              "Leste Europeu       56.758500\n",
              "Africa              56.634783\n",
              "Name: Tornout, dtype: float64"
            ]
          },
          "metadata": {},
          "execution_count": 126
        }
      ]
    },
    {
      "cell_type": "code",
      "metadata": {
        "colab": {
          "base_uri": "https://localhost:8080/",
          "height": 299
        },
        "id": "bJAROla9dZ2_",
        "outputId": "082498b2-99e9-42a3-f90a-3d25f859989a"
      },
      "source": [
        "#Vamos visualizar por meio de um gráfico de barrras\n",
        "\n",
        "media_tx.plot(\n",
        "    kind=\"barh\",\n",
        "    title=\"Taxa média de comparecimento eleitoral por continente\")"
      ],
      "execution_count": null,
      "outputs": [
        {
          "output_type": "execute_result",
          "data": {
            "text/plain": [
              "<matplotlib.axes._subplots.AxesSubplot at 0x7ff4e8b87310>"
            ]
          },
          "metadata": {},
          "execution_count": 127
        },
        {
          "output_type": "display_data",
          "data": {
            "image/png": "[encoded data removed]",
            "text/plain": [
              "<Figure size 432x288 with 1 Axes>"
            ]
          },
          "metadata": {
            "needs_background": "light"
          }
        }
      ]
    }
  ]
}